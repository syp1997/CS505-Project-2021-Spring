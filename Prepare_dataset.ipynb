{
 "cells": [
  {
   "cell_type": "code",
   "execution_count": 55,
   "id": "c4f94cb7",
   "metadata": {},
   "outputs": [],
   "source": [
    "source_dir = '/research/bwsun/StyleTrans/data/'\n",
    "info_file = source_dir+'arts/all_data_info.csv'\n",
    "data_dir = source_dir+'arts/alltrain/'\n",
    "\n",
    "save_dir = source_dir+'costum/'"
   ]
  },
  {
   "cell_type": "code",
   "execution_count": 26,
   "id": "7f0c3d5b",
   "metadata": {},
   "outputs": [],
   "source": [
    "import os\n",
    "import shutil\n",
    "import random\n",
    "import pandas as pd\n",
    "import numpy as np\n",
    "from tqdm import tqdm"
   ]
  },
  {
   "cell_type": "code",
   "execution_count": 5,
   "id": "051ec830",
   "metadata": {},
   "outputs": [
    {
     "data": {
      "text/html": [
       "<div>\n",
       "<style scoped>\n",
       "    .dataframe tbody tr th:only-of-type {\n",
       "        vertical-align: middle;\n",
       "    }\n",
       "\n",
       "    .dataframe tbody tr th {\n",
       "        vertical-align: top;\n",
       "    }\n",
       "\n",
       "    .dataframe thead th {\n",
       "        text-align: right;\n",
       "    }\n",
       "</style>\n",
       "<table border=\"1\" class=\"dataframe\">\n",
       "  <thead>\n",
       "    <tr style=\"text-align: right;\">\n",
       "      <th></th>\n",
       "      <th>artist</th>\n",
       "      <th>date</th>\n",
       "      <th>genre</th>\n",
       "      <th>pixelsx</th>\n",
       "      <th>pixelsy</th>\n",
       "      <th>size_bytes</th>\n",
       "      <th>source</th>\n",
       "      <th>style</th>\n",
       "      <th>title</th>\n",
       "      <th>artist_group</th>\n",
       "      <th>in_train</th>\n",
       "      <th>new_filename</th>\n",
       "    </tr>\n",
       "  </thead>\n",
       "  <tbody>\n",
       "    <tr>\n",
       "      <th>0</th>\n",
       "      <td>Barnett Newman</td>\n",
       "      <td>1955.0</td>\n",
       "      <td>abstract</td>\n",
       "      <td>15530.0</td>\n",
       "      <td>6911.0</td>\n",
       "      <td>9201912.0</td>\n",
       "      <td>wikiart</td>\n",
       "      <td>Color Field Painting</td>\n",
       "      <td>Uriel</td>\n",
       "      <td>train_only</td>\n",
       "      <td>True</td>\n",
       "      <td>102257.jpg</td>\n",
       "    </tr>\n",
       "    <tr>\n",
       "      <th>1</th>\n",
       "      <td>Barnett Newman</td>\n",
       "      <td>1950.0</td>\n",
       "      <td>abstract</td>\n",
       "      <td>14559.0</td>\n",
       "      <td>6866.0</td>\n",
       "      <td>8867532.0</td>\n",
       "      <td>wikiart</td>\n",
       "      <td>Color Field Painting</td>\n",
       "      <td>Vir Heroicus Sublimis</td>\n",
       "      <td>train_only</td>\n",
       "      <td>True</td>\n",
       "      <td>75232.jpg</td>\n",
       "    </tr>\n",
       "    <tr>\n",
       "      <th>2</th>\n",
       "      <td>kiri nichol</td>\n",
       "      <td>2013.0</td>\n",
       "      <td>NaN</td>\n",
       "      <td>9003.0</td>\n",
       "      <td>9004.0</td>\n",
       "      <td>1756681.0</td>\n",
       "      <td>NaN</td>\n",
       "      <td>Neoplasticism</td>\n",
       "      <td>NaN</td>\n",
       "      <td>test_only</td>\n",
       "      <td>False</td>\n",
       "      <td>32145.jpg</td>\n",
       "    </tr>\n",
       "    <tr>\n",
       "      <th>3</th>\n",
       "      <td>kiri nichol</td>\n",
       "      <td>2013.0</td>\n",
       "      <td>NaN</td>\n",
       "      <td>9003.0</td>\n",
       "      <td>9004.0</td>\n",
       "      <td>1942046.0</td>\n",
       "      <td>NaN</td>\n",
       "      <td>Neoplasticism</td>\n",
       "      <td>NaN</td>\n",
       "      <td>test_only</td>\n",
       "      <td>False</td>\n",
       "      <td>20304.jpg</td>\n",
       "    </tr>\n",
       "    <tr>\n",
       "      <th>4</th>\n",
       "      <td>kiri nichol</td>\n",
       "      <td>2013.0</td>\n",
       "      <td>NaN</td>\n",
       "      <td>9003.0</td>\n",
       "      <td>9004.0</td>\n",
       "      <td>1526212.0</td>\n",
       "      <td>NaN</td>\n",
       "      <td>Neoplasticism</td>\n",
       "      <td>NaN</td>\n",
       "      <td>test_only</td>\n",
       "      <td>False</td>\n",
       "      <td>836.jpg</td>\n",
       "    </tr>\n",
       "  </tbody>\n",
       "</table>\n",
       "</div>"
      ],
      "text/plain": [
       "           artist    date     genre  pixelsx  pixelsy  size_bytes   source  \\\n",
       "0  Barnett Newman  1955.0  abstract  15530.0   6911.0   9201912.0  wikiart   \n",
       "1  Barnett Newman  1950.0  abstract  14559.0   6866.0   8867532.0  wikiart   \n",
       "2     kiri nichol  2013.0       NaN   9003.0   9004.0   1756681.0      NaN   \n",
       "3     kiri nichol  2013.0       NaN   9003.0   9004.0   1942046.0      NaN   \n",
       "4     kiri nichol  2013.0       NaN   9003.0   9004.0   1526212.0      NaN   \n",
       "\n",
       "                  style                  title artist_group  in_train  \\\n",
       "0  Color Field Painting                  Uriel   train_only      True   \n",
       "1  Color Field Painting  Vir Heroicus Sublimis   train_only      True   \n",
       "2         Neoplasticism                    NaN    test_only     False   \n",
       "3         Neoplasticism                    NaN    test_only     False   \n",
       "4         Neoplasticism                    NaN    test_only     False   \n",
       "\n",
       "  new_filename  \n",
       "0   102257.jpg  \n",
       "1    75232.jpg  \n",
       "2    32145.jpg  \n",
       "3    20304.jpg  \n",
       "4      836.jpg  "
      ]
     },
     "execution_count": 5,
     "metadata": {},
     "output_type": "execute_result"
    }
   ],
   "source": [
    "info = pd.read_csv(info_file)\n",
    "info.head()"
   ]
  },
  {
   "cell_type": "code",
   "execution_count": 39,
   "id": "b5a68746",
   "metadata": {},
   "outputs": [],
   "source": [
    "img2genre = {}\n",
    "genre2img = {}\n",
    "for index, row in info.iterrows():\n",
    "    img2genre[row['new_filename']] = row['genre']\n",
    "    if row['genre'] not in genre2img:\n",
    "        genre2img[row['genre']] = []\n",
    "    genre2img[row['genre']].append(row['new_filename'])"
   ]
  },
  {
   "cell_type": "code",
   "execution_count": 56,
   "id": "886ba0f6",
   "metadata": {},
   "outputs": [
    {
     "data": {
      "text/plain": [
       "59917"
      ]
     },
     "execution_count": 56,
     "metadata": {},
     "output_type": "execute_result"
    }
   ],
   "source": [
    "imgs = os.listdir(data_dir)\n",
    "len(imgs)"
   ]
  },
  {
   "cell_type": "code",
   "execution_count": 57,
   "id": "0ff6bdde",
   "metadata": {},
   "outputs": [
    {
     "name": "stderr",
     "output_type": "stream",
     "text": [
      "100%|██████████| 59917/59917 [00:00<00:00, 303508.03it/s]\n"
     ]
    }
   ],
   "source": [
    "subgenre2img = {}\n",
    "for img in tqdm(imgs):\n",
    "    genre = img2genre[img]\n",
    "    if pd.isnull(genre):\n",
    "        continue\n",
    "    if genre not in subgenre2img:\n",
    "        subgenre2img[genre] = []\n",
    "    subgenre2img[genre].append(img)"
   ]
  },
  {
   "cell_type": "code",
   "execution_count": 68,
   "id": "672f8d82",
   "metadata": {},
   "outputs": [
    {
     "data": {
      "text/plain": [
       "42"
      ]
     },
     "execution_count": 68,
     "metadata": {},
     "output_type": "execute_result"
    }
   ],
   "source": [
    "len(subgenre2img)"
   ]
  },
  {
   "cell_type": "code",
   "execution_count": 63,
   "id": "4737b208",
   "metadata": {},
   "outputs": [
    {
     "name": "stderr",
     "output_type": "stream",
     "text": [
      "100%|██████████| 42/42 [01:25<00:00,  2.04s/it]\n"
     ]
    }
   ],
   "source": [
    "\n",
    "ref_dir = save_dir+'ref/'\n",
    "src_dir = save_dir+'src/'\n",
    "val_split = 0.1\n",
    "for genre in tqdm(subgenre2img.keys()):\n",
    "    imgs = subgenre2img[genre]\n",
    "    val_num = int(len(imgs)*val_split)\n",
    "    val_imgs = random.sample(imgs, val_num)\n",
    "    train_imgs = list(set(imgs)-set(val_imgs))\n",
    "    for idx, img in enumerate(train_imgs):\n",
    "        genre_dir = ref_dir+genre+'/'\n",
    "        if not os.path.exists(genre_dir):\n",
    "            os.mkdir(genre_dir)\n",
    "\n",
    "        shutil.move(os.path.join(data_dir, img), genre_dir+str(idx)+'.jpg')\n",
    "    for idx, img in enumerate(val_imgs):\n",
    "        genre_dir = src_dir+genre+'/'\n",
    "        if not os.path.exists(genre_dir):\n",
    "            os.mkdir(genre_dir)\n",
    "\n",
    "        shutil.move(os.path.join(data_dir, img), genre_dir+str(idx)+'.jpg')"
   ]
  },
  {
   "cell_type": "code",
   "execution_count": 67,
   "id": "397d9f69",
   "metadata": {},
   "outputs": [
    {
     "data": {
      "text/plain": [
       "{'quadratura', 'urushi-e'}"
      ]
     },
     "execution_count": 67,
     "metadata": {},
     "output_type": "execute_result"
    }
   ],
   "source": [
    "set(os.listdir(ref_dir)) - set(os.listdir(src_dir))"
   ]
  },
  {
   "cell_type": "markdown",
   "id": "0334e3cd",
   "metadata": {},
   "source": [
    "Dump star files"
   ]
  },
  {
   "cell_type": "code",
   "execution_count": 25,
   "id": "78828907",
   "metadata": {},
   "outputs": [],
   "source": [
    "celeba_dir = source_dir+'celeba_hq/train/'\n",
    "cates = os.listdir(celeba_dir)"
   ]
  },
  {
   "cell_type": "code",
   "execution_count": 54,
   "id": "2f327bd6",
   "metadata": {},
   "outputs": [
    {
     "ename": "KeyboardInterrupt",
     "evalue": "",
     "output_type": "error",
     "traceback": [
      "\u001b[0;31m---------------------------------------------------------------------------\u001b[0m",
      "\u001b[0;31mKeyboardInterrupt\u001b[0m                         Traceback (most recent call last)",
      "\u001b[0;32m<ipython-input-54-4169ade8d132>\u001b[0m in \u001b[0;36m<module>\u001b[0;34m\u001b[0m\n\u001b[1;32m      6\u001b[0m     \u001b[0mimgs\u001b[0m \u001b[0;34m=\u001b[0m \u001b[0mos\u001b[0m\u001b[0;34m.\u001b[0m\u001b[0mlistdir\u001b[0m\u001b[0;34m(\u001b[0m\u001b[0mceleba_dir\u001b[0m\u001b[0;34m+\u001b[0m\u001b[0mcate\u001b[0m\u001b[0;34m)\u001b[0m\u001b[0;34m\u001b[0m\u001b[0;34m\u001b[0m\u001b[0m\n\u001b[1;32m      7\u001b[0m     \u001b[0;32mfor\u001b[0m \u001b[0midx\u001b[0m\u001b[0;34m,\u001b[0m \u001b[0mimg\u001b[0m \u001b[0;32min\u001b[0m \u001b[0menumerate\u001b[0m\u001b[0;34m(\u001b[0m\u001b[0mimgs\u001b[0m\u001b[0;34m)\u001b[0m\u001b[0;34m:\u001b[0m\u001b[0;34m\u001b[0m\u001b[0;34m\u001b[0m\u001b[0m\n\u001b[0;32m----> 8\u001b[0;31m         \u001b[0mshutil\u001b[0m\u001b[0;34m.\u001b[0m\u001b[0mcopyfile\u001b[0m\u001b[0;34m(\u001b[0m\u001b[0mos\u001b[0m\u001b[0;34m.\u001b[0m\u001b[0mpath\u001b[0m\u001b[0;34m.\u001b[0m\u001b[0mjoin\u001b[0m\u001b[0;34m(\u001b[0m\u001b[0mceleba_dir\u001b[0m\u001b[0;34m+\u001b[0m\u001b[0mcate\u001b[0m\u001b[0;34m,\u001b[0m \u001b[0mimg\u001b[0m\u001b[0;34m)\u001b[0m\u001b[0;34m,\u001b[0m \u001b[0mcate_dir\u001b[0m\u001b[0;34m+\u001b[0m\u001b[0mstr\u001b[0m\u001b[0;34m(\u001b[0m\u001b[0midx\u001b[0m\u001b[0;34m)\u001b[0m\u001b[0;34m+\u001b[0m\u001b[0;34m'.jpg'\u001b[0m\u001b[0;34m)\u001b[0m\u001b[0;34m\u001b[0m\u001b[0;34m\u001b[0m\u001b[0m\n\u001b[0m",
      "\u001b[0;32m~/tf2/lib64/python3.6/shutil.py\u001b[0m in \u001b[0;36mcopyfile\u001b[0;34m(src, dst, follow_symlinks)\u001b[0m\n\u001b[1;32m    101\u001b[0m \u001b[0;34m\u001b[0m\u001b[0m\n\u001b[1;32m    102\u001b[0m     \"\"\"\n\u001b[0;32m--> 103\u001b[0;31m     \u001b[0;32mif\u001b[0m \u001b[0m_samefile\u001b[0m\u001b[0;34m(\u001b[0m\u001b[0msrc\u001b[0m\u001b[0;34m,\u001b[0m \u001b[0mdst\u001b[0m\u001b[0;34m)\u001b[0m\u001b[0;34m:\u001b[0m\u001b[0;34m\u001b[0m\u001b[0;34m\u001b[0m\u001b[0m\n\u001b[0m\u001b[1;32m    104\u001b[0m         \u001b[0;32mraise\u001b[0m \u001b[0mSameFileError\u001b[0m\u001b[0;34m(\u001b[0m\u001b[0;34m\"{!r} and {!r} are the same file\"\u001b[0m\u001b[0;34m.\u001b[0m\u001b[0mformat\u001b[0m\u001b[0;34m(\u001b[0m\u001b[0msrc\u001b[0m\u001b[0;34m,\u001b[0m \u001b[0mdst\u001b[0m\u001b[0;34m)\u001b[0m\u001b[0;34m)\u001b[0m\u001b[0;34m\u001b[0m\u001b[0;34m\u001b[0m\u001b[0m\n\u001b[1;32m    105\u001b[0m \u001b[0;34m\u001b[0m\u001b[0m\n",
      "\u001b[0;32m~/tf2/lib64/python3.6/shutil.py\u001b[0m in \u001b[0;36m_samefile\u001b[0;34m(src, dst)\u001b[0m\n\u001b[1;32m     86\u001b[0m     \u001b[0;32mif\u001b[0m \u001b[0mhasattr\u001b[0m\u001b[0;34m(\u001b[0m\u001b[0mos\u001b[0m\u001b[0;34m.\u001b[0m\u001b[0mpath\u001b[0m\u001b[0;34m,\u001b[0m \u001b[0;34m'samefile'\u001b[0m\u001b[0;34m)\u001b[0m\u001b[0;34m:\u001b[0m\u001b[0;34m\u001b[0m\u001b[0;34m\u001b[0m\u001b[0m\n\u001b[1;32m     87\u001b[0m         \u001b[0;32mtry\u001b[0m\u001b[0;34m:\u001b[0m\u001b[0;34m\u001b[0m\u001b[0;34m\u001b[0m\u001b[0m\n\u001b[0;32m---> 88\u001b[0;31m             \u001b[0;32mreturn\u001b[0m \u001b[0mos\u001b[0m\u001b[0;34m.\u001b[0m\u001b[0mpath\u001b[0m\u001b[0;34m.\u001b[0m\u001b[0msamefile\u001b[0m\u001b[0;34m(\u001b[0m\u001b[0msrc\u001b[0m\u001b[0;34m,\u001b[0m \u001b[0mdst\u001b[0m\u001b[0;34m)\u001b[0m\u001b[0;34m\u001b[0m\u001b[0;34m\u001b[0m\u001b[0m\n\u001b[0m\u001b[1;32m     89\u001b[0m         \u001b[0;32mexcept\u001b[0m \u001b[0mOSError\u001b[0m\u001b[0;34m:\u001b[0m\u001b[0;34m\u001b[0m\u001b[0;34m\u001b[0m\u001b[0m\n\u001b[1;32m     90\u001b[0m             \u001b[0;32mreturn\u001b[0m \u001b[0;32mFalse\u001b[0m\u001b[0;34m\u001b[0m\u001b[0;34m\u001b[0m\u001b[0m\n",
      "\u001b[0;32m~/tf2/lib64/python3.6/genericpath.py\u001b[0m in \u001b[0;36msamefile\u001b[0;34m(f1, f2)\u001b[0m\n\u001b[1;32m     94\u001b[0m \u001b[0;32mdef\u001b[0m \u001b[0msamefile\u001b[0m\u001b[0;34m(\u001b[0m\u001b[0mf1\u001b[0m\u001b[0;34m,\u001b[0m \u001b[0mf2\u001b[0m\u001b[0;34m)\u001b[0m\u001b[0;34m:\u001b[0m\u001b[0;34m\u001b[0m\u001b[0;34m\u001b[0m\u001b[0m\n\u001b[1;32m     95\u001b[0m     \u001b[0;34m\"\"\"Test whether two pathnames reference the same actual file\"\"\"\u001b[0m\u001b[0;34m\u001b[0m\u001b[0;34m\u001b[0m\u001b[0m\n\u001b[0;32m---> 96\u001b[0;31m     \u001b[0ms1\u001b[0m \u001b[0;34m=\u001b[0m \u001b[0mos\u001b[0m\u001b[0;34m.\u001b[0m\u001b[0mstat\u001b[0m\u001b[0;34m(\u001b[0m\u001b[0mf1\u001b[0m\u001b[0;34m)\u001b[0m\u001b[0;34m\u001b[0m\u001b[0;34m\u001b[0m\u001b[0m\n\u001b[0m\u001b[1;32m     97\u001b[0m     \u001b[0ms2\u001b[0m \u001b[0;34m=\u001b[0m \u001b[0mos\u001b[0m\u001b[0;34m.\u001b[0m\u001b[0mstat\u001b[0m\u001b[0;34m(\u001b[0m\u001b[0mf2\u001b[0m\u001b[0;34m)\u001b[0m\u001b[0;34m\u001b[0m\u001b[0;34m\u001b[0m\u001b[0m\n\u001b[1;32m     98\u001b[0m     \u001b[0;32mreturn\u001b[0m \u001b[0msamestat\u001b[0m\u001b[0;34m(\u001b[0m\u001b[0ms1\u001b[0m\u001b[0;34m,\u001b[0m \u001b[0ms2\u001b[0m\u001b[0;34m)\u001b[0m\u001b[0;34m\u001b[0m\u001b[0;34m\u001b[0m\u001b[0m\n",
      "\u001b[0;31mKeyboardInterrupt\u001b[0m: "
     ]
    }
   ],
   "source": [
    "for cate in cates:\n",
    "    cate_dir = ref_dir+cate+'/'\n",
    "    if not os.path.exists(cate_dir):\n",
    "        os.mkdir(cate_dir)\n",
    "        \n",
    "    imgs = os.listdir(celeba_dir+cate)\n",
    "    for idx, img in enumerate(imgs):\n",
    "        shutil.copyfile(os.path.join(celeba_dir+cate, img), cate_dir+str(idx)+'.jpg')"
   ]
  },
  {
   "cell_type": "code",
   "execution_count": 29,
   "id": "d02d603f",
   "metadata": {},
   "outputs": [
    {
     "data": {
      "text/plain": [
       "42"
      ]
     },
     "execution_count": 29,
     "metadata": {},
     "output_type": "execute_result"
    }
   ],
   "source": [
    "len(os.listdir(ref_dir))"
   ]
  },
  {
   "cell_type": "code",
   "execution_count": 30,
   "id": "17eb8a3b",
   "metadata": {},
   "outputs": [],
   "source": [
    "src_dir = save_dir+'src/'\n",
    "for cate in cates:\n",
    "    cate_dir = src_dir+cate+'/'\n",
    "    if not os.path.exists(cate_dir):\n",
    "        os.mkdir(cate_dir)\n",
    "        \n",
    "    imgs = os.listdir(celeba_dir+cate)\n",
    "    pick_imgs = random.sample(imgs,20)\n",
    "    for idx, img in enumerate(pick_imgs):\n",
    "        shutil.copyfile(os.path.join(celeba_dir+cate, img), cate_dir+str(idx)+'.jpg')"
   ]
  },
  {
   "cell_type": "code",
   "execution_count": 31,
   "id": "1c84da34",
   "metadata": {},
   "outputs": [
    {
     "data": {
      "text/plain": [
       "['male', 'female']"
      ]
     },
     "execution_count": 31,
     "metadata": {},
     "output_type": "execute_result"
    }
   ],
   "source": [
    "os.listdir(src_dir)"
   ]
  },
  {
   "cell_type": "code",
   "execution_count": 53,
   "id": "57139d03",
   "metadata": {},
   "outputs": [
    {
     "name": "stdout",
     "output_type": "stream",
     "text": [
      "['20023.jpg', '20350.jpg', '20351.jpg', '20845.jpg', '2087.jpg', '20942.jpg', '21216.jpg', '21532.jpg', '21724.jpg', '21898.jpg', '22029.jpg', '22048.jpg', '22049.jpg', '20824.jpg', '27286.jpg', '22446.jpg', '2271.jpg', '22886.jpg', '22983.jpg', '22989.jpg', '22999.jpg', '23057.jpg', '23059.jpg', '23308.jpg', '23435.jpg', '23509.jpg', '23872.jpg', '24007.jpg', '24436.jpg', '24612.jpg', '24667.jpg', '24726.jpg', '24772.jpg', '24800.jpg', '24810.jpg', '24870.jpg', '24933.jpg', '25140.jpg', '25156.jpg', '25480.jpg', '2547.jpg', '26133.jpg', '26562.jpg', '2683.jpg', '26999.jpg', '27029.jpg', '27204.jpg', '27516.jpg', '27562.jpg', '27835.jpg', '2803.jpg', '28359.jpg', '28447.jpg', '28578.jpg', '28586.jpg', '28597.jpg', '28818.jpg', '28888.jpg', '29029.jpg', '28732.jpg', '29049.jpg', '29103.jpg', '29125.jpg', '29418.jpg', '29953.jpg'] interior\n",
      "['20068.jpg', '2023.jpg', '20259.jpg', '20338.jpg', '20402.jpg', '2045.jpg', '22477.jpg', '22625.jpg', '23381.jpg', '23549.jpg', '23878.jpg', '23928.jpg', '24047.jpg', '24109.jpg', '24402.jpg', '2597.jpg', '26521.jpg', '26545.jpg', '26996.jpg', '27535.jpg', '27722.jpg', '28012.jpg', '28033.jpg', '28531.jpg', '28826.jpg', '28985.jpg', '29243.jpg'] wildlife painting\n",
      "['20100.jpg', '20316.jpg', '20138.jpg', '20217.jpg', '20336.jpg', '21026.jpg', '21074.jpg', '21116.jpg', '21126.jpg', '21342.jpg', '21657.jpg', '21796.jpg', '2192.jpg', '22036.jpg', '22705.jpg', '22755.jpg', '22909.jpg', '23030.jpg', '23110.jpg', '2333.jpg', '23412.jpg', '23787.jpg', '23810.jpg', '23943.jpg', '24202.jpg', '24317.jpg', '24344.jpg', '25135.jpg', '24855.jpg', '25075.jpg', '25155.jpg', '25773.jpg', '25981.jpg', '26084.jpg', '26392.jpg', '26418.jpg', '26478.jpg', '26570.jpg', '2673.jpg', '26898.jpg', '26944.jpg', '27067.jpg', '27135.jpg', '2745.jpg', '27633.jpg', '27680.jpg', '27735.jpg', '28080.jpg', '28092.jpg', '28408.jpg', '2833.jpg', '28609.jpg', '28620.jpg', '28632.jpg', '28698.jpg', '28727.jpg', '28913.jpg', '28960.jpg', '29155.jpg', '29584.jpg', '29620.jpg', '29673.jpg', '29722.jpg', '29877.jpg', '29971.jpg'] allegorical painting\n",
      "['20144.jpg', '20599.jpg', '22338.jpg', '22962.jpg', '24832.jpg', '24977.jpg', '25106.jpg', '25479.jpg', '25530.jpg', '26617.jpg', '27136.jpg', '27381.jpg', '27489.jpg', '28008.jpg', '285.jpg', '29813.jpg'] capriccio\n",
      "['20171.jpg', '20842.jpg', '21050.jpg', '21612.jpg', '23639.jpg', '23698.jpg', '23748.jpg', '24441.jpg', '25272.jpg', '26913.jpg', '27399.jpg', '27998.jpg', '28378.jpg', '29298.jpg', '29300.jpg', '29400.jpg'] bijinga\n",
      "['20175.jpg', '20553.jpg', '21874.jpg', '2196.jpg', '2241.jpg', '22659.jpg', '23990.jpg', '24835.jpg', '26185.jpg', '26904.jpg', '26954.jpg', '27713.jpg', '29116.jpg', '29568.jpg'] tessellation\n",
      "['2022.jpg', '20478.jpg', '20811.jpg', '20937.jpg', '23558.jpg', '23781.jpg', '23966.jpg', '2462.jpg', '25117.jpg', '25357.jpg', '25556.jpg', '26018.jpg', '26310.jpg', '26591.jpg', '26593.jpg', '26744.jpg', '27333.jpg', '27912.jpg', '28250.jpg'] poster\n",
      "['20225.jpg', '20705.jpg', '2048.jpg', '20860.jpg', '21189.jpg', '21382.jpg', '21471.jpg', '21541.jpg', '21607.jpg', '21694.jpg', '21813.jpg', '21943.jpg', '21996.jpg', '22124.jpg', '21957.jpg', '22984.jpg', '23216.jpg', '23385.jpg', '23468.jpg', '23554.jpg', '23686.jpg', '23729.jpg', '2380.jpg', '23901.jpg', '23947.jpg', '2424.jpg', '24540.jpg', '24422.jpg', '24871.jpg', '25016.jpg', '25138.jpg', '25199.jpg', '25438.jpg', '25610.jpg', '25771.jpg', '25913.jpg', '26241.jpg', '2631.jpg', '26427.jpg', '26646.jpg', '26728.jpg', '26812.jpg', '26842.jpg', '26924.jpg', '27016.jpg', '27109.jpg', '27167.jpg', '27292.jpg', '27294.jpg', '27388.jpg', '27427.jpg', '27524.jpg', '27543.jpg', '27673.jpg', '2768.jpg', '27769.jpg', '27813.jpg', '28032.jpg', '28114.jpg', '28129.jpg', '28150.jpg', '2835.jpg', '28399.jpg', '2903.jpg', '29179.jpg', '29240.jpg', '29255.jpg', '2931.jpg', '29761.jpg', '29801.jpg', '29907.jpg'] history painting\n",
      "['20229.jpg', '21204.jpg', '23183.jpg', '23654.jpg', '24577.jpg', '24280.jpg', '26154.jpg', '28969.jpg'] pastorale\n",
      "['20271.jpg', '20518.jpg', '21198.jpg', '21294.jpg', '21326.jpg', '21462.jpg', '21506.jpg', '21733.jpg', '21944.jpg', '22251.jpg', '22899.jpg', '23017.jpg', '233.jpg', '23772.jpg', '2377.jpg', '26062.jpg', '26313.jpg', '26467.jpg', '26821.jpg', '26834.jpg', '27354.jpg', '27407.jpg', '27838.jpg', '27964.jpg', '27981.jpg', '28507.jpg', '28561.jpg', '28854.jpg', '29149.jpg'] battle painting\n",
      "['20288.jpg', '20418.jpg', '2074.jpg', '20981.jpg', '21186.jpg', '21860.jpg', '22877.jpg', '22912.jpg', '2351.jpg', '2514.jpg', '28065.jpg', '28347.jpg', '28701.jpg', '2891.jpg', '28934.jpg', '29317.jpg'] veduta\n",
      "['20374.jpg', '2041.jpg', '20782.jpg', '20500.jpg', '21312.jpg', '2242.jpg', '22613.jpg', '22704.jpg', '22798.jpg', '23065.jpg', '23537.jpg', '23684.jpg', '2410.jpg', '24122.jpg', '24595.jpg', '24744.jpg', '24989.jpg', '2516.jpg', '25378.jpg', '25476.jpg', '25669.jpg', '25788.jpg', '25885.jpg', '25918.jpg', '26078.jpg', '26666.jpg', '27300.jpg', '27319.jpg', '27461.jpg', '27677.jpg', '28004.jpg', '28040.jpg', '28384.jpg', '28413.jpg', '28460.jpg', '28423.jpg', '28731.jpg', '29331.jpg', '29606.jpg'] literary painting\n",
      "['20579.jpg', '20975.jpg', '21693.jpg', '22633.jpg', '23212.jpg', '24582.jpg', '24673.jpg', '25100.jpg', '25878.jpg', '26575.jpg', '26719.jpg', '27674.jpg', '28714.jpg', '28740.jpg'] calligraphy\n",
      "['20856.jpg', '216.jpg', '23310.jpg', '23508.jpg', '23719.jpg', '23971.jpg', '24059.jpg', '24864.jpg', '2502.jpg', '26316.jpg', '26489.jpg', '26750.jpg', '27254.jpg', '28860.jpg', '29285.jpg'] bird-and-flower painting\n",
      "['20885.jpg', '21960.jpg', '22111.jpg', '23198.jpg', '23631.jpg', '24041.jpg', '24999.jpg', '25064.jpg', '25390.jpg', '25562.jpg', '25709.jpg', '26107.jpg', '26322.jpg', '26368.jpg', '26604.jpg', '26946.jpg', '27957.jpg', '28180.jpg', '29802.jpg'] cloudscape\n",
      "['21040.jpg', '21041.jpg', '2187.jpg', '22608.jpg', '22835.jpg', '23051.jpg', '23490.jpg', '24734.jpg', '25690.jpg', '27215.jpg'] yakusha-e\n",
      "['21205.jpg', '28544.jpg', '28974.jpg', '2920.jpg'] shan shui\n",
      "['21247.jpg', '24408.jpg'] advertisement\n",
      "['21302.jpg', '2144.jpg', '21440.jpg', '21546.jpg', '21817.jpg', '21951.jpg', '22410.jpg', '22473.jpg', '22883.jpg', '23840.jpg', '24565.jpg', '24809.jpg', '25271.jpg', '26170.jpg', '27049.jpg', '27606.jpg', '28339.jpg', '2866.jpg', '29495.jpg', '29580.jpg'] caricature\n",
      "['22082.jpg', '23031.jpg', '23097.jpg', '24409.jpg', '24529.jpg', '25986.jpg', '26385.jpg', '27011.jpg', '27101.jpg', '28102.jpg', '29807.jpg'] miniature\n",
      "['22512.jpg', '23207.jpg', '23915.jpg', '25510.jpg', '29306.jpg'] vanitas\n",
      "['2611.jpg'] panorama\n"
     ]
    }
   ],
   "source": [
    "# refs = os.listdir(ref_dir)\n",
    "# srcs = os.listdir(src_dir)\n",
    "for ref in refs:\n",
    "    if ref not in srcs:\n",
    "        genre_dir = src_dir+ref+'/'\n",
    "        if not os.path.exists(genre_dir):\n",
    "            os.mkdir(genre_dir)\n",
    "        imgs = subgenre2img[ref]\n",
    "        print(imgs, ref)\n",
    "        pick_imgs = random.sample(imgs,min(20, len(imgs)))\n",
    "        for idx, img in enumerate(pick_imgs):\n",
    "            shutil.copyfile(os.path.join(data_dir, img), genre_dir+str(idx)+'.jpg')"
   ]
  },
  {
   "cell_type": "code",
   "execution_count": null,
   "id": "9d21f0be",
   "metadata": {},
   "outputs": [],
   "source": []
  }
 ],
 "metadata": {
  "kernelspec": {
   "display_name": "Python 3",
   "language": "python",
   "name": "python3"
  },
  "language_info": {
   "codemirror_mode": {
    "name": "ipython",
    "version": 3
   },
   "file_extension": ".py",
   "mimetype": "text/x-python",
   "name": "python",
   "nbconvert_exporter": "python",
   "pygments_lexer": "ipython3",
   "version": "3.6.8"
  }
 },
 "nbformat": 4,
 "nbformat_minor": 5
}
