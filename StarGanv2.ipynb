{
 "cells": [
  {
   "cell_type": "code",
   "execution_count": null,
   "metadata": {
    "colab": {
     "base_uri": "https://localhost:8080/"
    },
    "id": "49MDfvtHpALd",
    "outputId": "250ce3c2-275e-42c9-ca53-a2194c50d612"
   },
   "outputs": [
    {
     "name": "stdout",
     "output_type": "stream",
     "text": [
      "Sat Apr 24 09:35:37 2021       \n",
      "+-----------------------------------------------------------------------------+\n",
      "| NVIDIA-SMI 465.19.01    Driver Version: 460.32.03    CUDA Version: 11.2     |\n",
      "|-------------------------------+----------------------+----------------------+\n",
      "| GPU  Name        Persistence-M| Bus-Id        Disp.A | Volatile Uncorr. ECC |\n",
      "| Fan  Temp  Perf  Pwr:Usage/Cap|         Memory-Usage | GPU-Util  Compute M. |\n",
      "|                               |                      |               MIG M. |\n",
      "|===============================+======================+======================|\n",
      "|   0  Tesla P100-PCIE...  Off  | 00000000:00:04.0 Off |                    0 |\n",
      "| N/A   34C    P0    27W / 250W |      0MiB / 16280MiB |      0%      Default |\n",
      "|                               |                      |                  N/A |\n",
      "+-------------------------------+----------------------+----------------------+\n",
      "                                                                               \n",
      "+-----------------------------------------------------------------------------+\n",
      "| Processes:                                                                  |\n",
      "|  GPU   GI   CI        PID   Type   Process name                  GPU Memory |\n",
      "|        ID   ID                                                   Usage      |\n",
      "|=============================================================================|\n",
      "|  No running processes found                                                 |\n",
      "+-----------------------------------------------------------------------------+\n"
     ]
    }
   ],
   "source": [
    "!nvidia-smi"
   ]
  },
  {
   "cell_type": "code",
   "execution_count": null,
   "metadata": {
    "colab": {
     "base_uri": "https://localhost:8080/"
    },
    "id": "KNfgNVhKc3qH",
    "outputId": "ad36737c-f2c8-4a3b-c878-643614a53c17"
   },
   "outputs": [
    {
     "name": "stdout",
     "output_type": "stream",
     "text": [
      "sample_data\n"
     ]
    }
   ],
   "source": [
    "!ls"
   ]
  },
  {
   "cell_type": "code",
   "execution_count": null,
   "metadata": {
    "colab": {
     "base_uri": "https://localhost:8080/"
    },
    "id": "zBCVWBkd3Nym",
    "outputId": "cca1d567-4508-46fd-a953-5cb69ba05328"
   },
   "outputs": [
    {
     "name": "stdout",
     "output_type": "stream",
     "text": [
      "Cloning into 'stargan-v2'...\n",
      "remote: Enumerating objects: 237, done.\u001b[K\n",
      "remote: Total 237 (delta 0), reused 0 (delta 0), pack-reused 237\u001b[K\n",
      "Receiving objects: 100% (237/237), 38.32 MiB | 18.33 MiB/s, done.\n",
      "Resolving deltas: 100% (43/43), done.\n"
     ]
    }
   ],
   "source": [
    "!rm -rf stargan-v2\n",
    "!git clone https://github.com/clovaai/stargan-v2.git"
   ]
  },
  {
   "cell_type": "code",
   "execution_count": null,
   "metadata": {
    "colab": {
     "base_uri": "https://localhost:8080/"
    },
    "id": "2l3UJbnE3N0h",
    "outputId": "92793a6d-98df-4fc7-db5d-3dec9c8506eb"
   },
   "outputs": [
    {
     "name": "stdout",
     "output_type": "stream",
     "text": [
      "/content/stargan-v2\n"
     ]
    }
   ],
   "source": [
    "%cd stargan-v2/"
   ]
  },
  {
   "cell_type": "code",
   "execution_count": null,
   "metadata": {
    "colab": {
     "base_uri": "https://localhost:8080/"
    },
    "id": "b9wiIH_S43ZH",
    "outputId": "0f714ca4-7c98-4434-92cd-55d3dbacef10"
   },
   "outputs": [
    {
     "name": "stdout",
     "output_type": "stream",
     "text": [
      "Collecting munch\n",
      "  Downloading https://files.pythonhosted.org/packages/cc/ab/85d8da5c9a45e072301beb37ad7f833cd344e04c817d97e0cc75681d248f/munch-2.5.0-py2.py3-none-any.whl\n",
      "Requirement already satisfied: six in /usr/local/lib/python3.7/dist-packages (from munch) (1.15.0)\n",
      "Installing collected packages: munch\n",
      "Successfully installed munch-2.5.0\n"
     ]
    }
   ],
   "source": [
    "!pip install munch"
   ]
  },
  {
   "cell_type": "code",
   "execution_count": null,
   "metadata": {
    "colab": {
     "base_uri": "https://localhost:8080/"
    },
    "id": "c4XJ7igHVD_G",
    "outputId": "2862a2d8-224f-411f-9e07-c789548375f8"
   },
   "outputs": [
    {
     "name": "stdout",
     "output_type": "stream",
     "text": [
      "Requirement already satisfied: opencv-python==4.1.2.30 in /usr/local/lib/python3.7/dist-packages (4.1.2.30)\n",
      "Collecting ffmpeg-python==0.2.0\n",
      "  Downloading https://files.pythonhosted.org/packages/d7/0c/56be52741f75bad4dc6555991fabd2e07b432d333da82c11ad701123888a/ffmpeg_python-0.2.0-py3-none-any.whl\n",
      "Requirement already satisfied: scikit-image==0.16.2 in /usr/local/lib/python3.7/dist-packages (0.16.2)\n",
      "Requirement already satisfied: numpy>=1.14.5 in /usr/local/lib/python3.7/dist-packages (from opencv-python==4.1.2.30) (1.19.5)\n",
      "Requirement already satisfied: future in /usr/local/lib/python3.7/dist-packages (from ffmpeg-python==0.2.0) (0.16.0)\n",
      "Requirement already satisfied: PyWavelets>=0.4.0 in /usr/local/lib/python3.7/dist-packages (from scikit-image==0.16.2) (1.1.1)\n",
      "Requirement already satisfied: pillow>=4.3.0 in /usr/local/lib/python3.7/dist-packages (from scikit-image==0.16.2) (7.1.2)\n",
      "Requirement already satisfied: imageio>=2.3.0 in /usr/local/lib/python3.7/dist-packages (from scikit-image==0.16.2) (2.4.1)\n",
      "Requirement already satisfied: matplotlib!=3.0.0,>=2.0.0 in /usr/local/lib/python3.7/dist-packages (from scikit-image==0.16.2) (3.2.2)\n",
      "Requirement already satisfied: networkx>=2.0 in /usr/local/lib/python3.7/dist-packages (from scikit-image==0.16.2) (2.5.1)\n",
      "Requirement already satisfied: scipy>=0.19.0 in /usr/local/lib/python3.7/dist-packages (from scikit-image==0.16.2) (1.4.1)\n",
      "Requirement already satisfied: kiwisolver>=1.0.1 in /usr/local/lib/python3.7/dist-packages (from matplotlib!=3.0.0,>=2.0.0->scikit-image==0.16.2) (1.3.1)\n",
      "Requirement already satisfied: python-dateutil>=2.1 in /usr/local/lib/python3.7/dist-packages (from matplotlib!=3.0.0,>=2.0.0->scikit-image==0.16.2) (2.8.1)\n",
      "Requirement already satisfied: pyparsing!=2.0.4,!=2.1.2,!=2.1.6,>=2.0.1 in /usr/local/lib/python3.7/dist-packages (from matplotlib!=3.0.0,>=2.0.0->scikit-image==0.16.2) (2.4.7)\n",
      "Requirement already satisfied: cycler>=0.10 in /usr/local/lib/python3.7/dist-packages (from matplotlib!=3.0.0,>=2.0.0->scikit-image==0.16.2) (0.10.0)\n",
      "Requirement already satisfied: decorator<5,>=4.3 in /usr/local/lib/python3.7/dist-packages (from networkx>=2.0->scikit-image==0.16.2) (4.4.2)\n",
      "Requirement already satisfied: six>=1.5 in /usr/local/lib/python3.7/dist-packages (from python-dateutil>=2.1->matplotlib!=3.0.0,>=2.0.0->scikit-image==0.16.2) (1.15.0)\n",
      "Installing collected packages: ffmpeg-python\n",
      "Successfully installed ffmpeg-python-0.2.0\n"
     ]
    }
   ],
   "source": [
    "!pip install opencv-python==4.1.2.30 ffmpeg-python==0.2.0 scikit-image==0.16.2"
   ]
  },
  {
   "cell_type": "code",
   "execution_count": null,
   "metadata": {
    "id": "DpMmmjVi3N2n"
   },
   "outputs": [],
   "source": [
    "!bash download.sh celeba-hq-dataset\n",
    "!bash download.sh pretrained-network-celeba-hq\n",
    "!bash download.sh wing"
   ]
  },
  {
   "cell_type": "code",
   "execution_count": null,
   "metadata": {
    "colab": {
     "base_uri": "https://localhost:8080/"
    },
    "id": "wa6uVN-5oodY",
    "outputId": "8b64e782-31fd-4c06-bd37-55ce92c0779e"
   },
   "outputs": [
    {
     "name": "stdout",
     "output_type": "stream",
     "text": [
      "/content\n",
      "/content\n",
      "Archive:  imgs.zip\n",
      "   creating: imgs/\n",
      "  inflating: imgs/000026.jpg         \n",
      "  inflating: __MACOSX/imgs/._000026.jpg  \n",
      "  inflating: imgs/000033.jpg         \n",
      "  inflating: __MACOSX/imgs/._000033.jpg  \n",
      "  inflating: imgs/000019.jpg         \n",
      "  inflating: __MACOSX/imgs/._000019.jpg  \n",
      "  inflating: imgs/000025.jpg         \n",
      "  inflating: __MACOSX/imgs/._000025.jpg  \n",
      "  inflating: imgs/000034.jpg         \n",
      "  inflating: __MACOSX/imgs/._000034.jpg  \n",
      "  inflating: imgs/.DS_Store          \n",
      "  inflating: __MACOSX/imgs/._.DS_Store  \n",
      "  inflating: imgs/000020.jpg         \n",
      "  inflating: __MACOSX/imgs/._000020.jpg  \n",
      "  inflating: imgs/000035.jpg         \n",
      "  inflating: __MACOSX/imgs/._000035.jpg  \n",
      "  inflating: imgs/000037.jpg         \n",
      "  inflating: __MACOSX/imgs/._000037.jpg  \n",
      "/content/stargan-v2\n"
     ]
    }
   ],
   "source": [
    "%cd ..\n",
    "!rm -rf imgs\n",
    "%cd /content/\n",
    "!rm -rf img __MACOSX \n",
    "!unzip imgs.zip\n",
    "!mv imgs stargan-v2\n",
    "%cd stargan-v2/"
   ]
  },
  {
   "cell_type": "code",
   "execution_count": null,
   "metadata": {
    "id": "gYeUP9qDF1sb"
   },
   "outputs": [],
   "source": [
    "!rm -rf /content/stargan-v2/assets/representative/celeba_hq/src/male/*\n",
    "!rm -rf /content/stargan-v2/assets/representative/celeba_hq/src/female/*"
   ]
  },
  {
   "cell_type": "code",
   "execution_count": null,
   "metadata": {
    "colab": {
     "base_uri": "https://localhost:8080/"
    },
    "id": "sm7PXwZ78OYK",
    "outputId": "42d66e75-efc8-49f8-cfdd-518982f8a311"
   },
   "outputs": [
    {
     "name": "stdout",
     "output_type": "stream",
     "text": [
      "Namespace(batch_size=8, beta1=0.0, beta2=0.99, checkpoint_dir='expr/checkpoints', ds_iter=100000, eval_dir='expr/eval', eval_every=50000, f_lr=1e-06, hidden_dim=512, img_size=256, inp_dir='imgs', lambda_cyc=1, lambda_ds=1, lambda_reg=1, lambda_sty=1, latent_dim=16, lm_path='expr/checkpoints/celeba_lm_mean.npz', lr=0.0001, mode='align', num_domains=2, num_outs_per_domain=10, num_workers=4, out_dir='assets/representative/celeba_hq/src/female', print_every=10, randcrop_prob=0.5, ref_dir='assets/representative/celeba_hq/ref', result_dir='expr/results', resume_iter=0, sample_dir='expr/samples', sample_every=5000, save_every=10000, seed=777, src_dir='assets/representative/celeba_hq/src', style_dim=64, total_iters=100000, train_img_dir='data/celeba_hq/train', val_batch_size=32, val_img_dir='data/celeba_hq/val', w_hpf=1, weight_decay=0.0001, wing_path='expr/checkpoints/wing.ckpt')\n",
      "Number of parameters of generator: 43467395\n",
      "Number of parameters of mapping_network: 2438272\n",
      "Number of parameters of style_encoder: 20916928\n",
      "Number of parameters of discriminator: 20852290\n",
      "Number of parameters of fan: 6333603\n",
      "Initializing generator...\n",
      "Initializing mapping_network...\n",
      "Initializing style_encoder...\n",
      "Initializing discriminator...\n",
      "/usr/local/lib/python3.7/dist-packages/torch/nn/functional.py:3458: UserWarning: Default upsampling behavior when mode=bilinear is changed to align_corners=False since 0.4.0. Please specify align_corners=True if the old behavior is desired. See the documentation of nn.Upsample for details.\n",
      "  \"See the documentation of nn.Upsample for details.\".format(mode)\n",
      "Saved the aligned image to 000019.jpg...\n",
      "Saved the aligned image to 000020.jpg...\n",
      "Saved the aligned image to 000025.jpg...\n",
      "Saved the aligned image to 000026.jpg...\n",
      "Saved the aligned image to 000033.jpg...\n",
      "Saved the aligned image to 000034.jpg...\n",
      "Saved the aligned image to 000035.jpg...\n",
      "Saved the aligned image to 000037.jpg...\n"
     ]
    }
   ],
   "source": [
    "!rm -rf imgs/.ipynb_checkpoints\n",
    "!rm -rf imgs/.DS_Store\n",
    "!rm -rf assets/representative/celeba_hq/src/female/*\n",
    "!python main.py --mode align \\\n",
    "               --inp_dir imgs \\\n",
    "               --out_dir assets/representative/celeba_hq/src/female"
   ]
  },
  {
   "cell_type": "code",
   "execution_count": null,
   "metadata": {
    "id": "x8amUxYu8ga4"
   },
   "outputs": [],
   "source": [
    "# !mv assets/representative/celeba_hq/ref/female/1* others\n",
    "# !mv assets/representative/celeba_hq/ref/female/05* others\n",
    "# !mv assets/representative/celeba_hq/ref/female/06* others\n",
    "# !mv assets/representative/celeba_hq/ref/female/07* others\n",
    "# !mv assets/representative/celeba_hq/ref/female/08* others\n",
    "# !mv assets/representative/celeba_hq/ref/male/1* others\n",
    "# !mv assets/representative/celeba_hq/ref/male/06* others\n",
    "# !mv assets/representative/celeba_hq/ref/male/07* others\n",
    "# !mv assets/representative/celeba_hq/ref/male/08* others\n",
    "# !mv assets/representative/celeba_hq/ref/male/09* others"
   ]
  },
  {
   "cell_type": "code",
   "execution_count": null,
   "metadata": {
    "colab": {
     "base_uri": "https://localhost:8080/"
    },
    "id": "b1S9QGDD9oC-",
    "outputId": "34bee0e6-2046-4b67-9276-9b7e3253f672"
   },
   "outputs": [
    {
     "name": "stdout",
     "output_type": "stream",
     "text": [
      "Namespace(batch_size=8, beta1=0.0, beta2=0.99, checkpoint_dir='expr/checkpoints/celeba_hq', ds_iter=100000, eval_dir='expr/eval', eval_every=50000, f_lr=1e-06, hidden_dim=512, img_size=256, inp_dir='assets/representative/custom/female', lambda_cyc=1, lambda_ds=1, lambda_reg=1, lambda_sty=1, latent_dim=16, lm_path='expr/checkpoints/celeba_lm_mean.npz', lr=0.0001, mode='sample', num_domains=2, num_outs_per_domain=10, num_workers=4, out_dir='assets/representative/celeba_hq/src/female', print_every=10, randcrop_prob=0.5, ref_dir='assets/representative/celeba_hq/ref', result_dir='expr/results', resume_iter=100000, sample_dir='expr/samples', sample_every=5000, save_every=10000, seed=777, src_dir='assets/representative/celeba_hq/src', style_dim=64, total_iters=100000, train_img_dir='data/celeba_hq/train', val_batch_size=32, val_img_dir='data/celeba_hq/val', w_hpf=1.0, weight_decay=0.0001, wing_path='expr/checkpoints/wing.ckpt')\n",
      "Number of parameters of generator: 43467395\n",
      "Number of parameters of mapping_network: 2438272\n",
      "Number of parameters of style_encoder: 20916928\n",
      "Number of parameters of discriminator: 20852290\n",
      "Number of parameters of fan: 6333603\n",
      "Initializing generator...\n",
      "Initializing mapping_network...\n",
      "Initializing style_encoder...\n",
      "Initializing discriminator...\n",
      "Preparing DataLoader for the generation phase...\n",
      "Preparing DataLoader for the generation phase...\n",
      "Loading checkpoint from expr/checkpoints/celeba_hq/100000_nets_ema.ckpt...\n",
      "Working on expr/results/reference.jpg...\n",
      "/usr/local/lib/python3.7/dist-packages/torch/nn/functional.py:3458: UserWarning: Default upsampling behavior when mode=bilinear is changed to align_corners=False since 0.4.0. Please specify align_corners=True if the old behavior is desired. See the documentation of nn.Upsample for details.\n",
      "  \"See the documentation of nn.Upsample for details.\".format(mode)\n",
      "Working on expr/results/video_ref.mp4...\n",
      "video_ref: 100% 13/13 [00:39<00:00,  3.01s/it]\n",
      "tcmalloc: large alloc 5037686784 bytes == 0x55e8e3176000 @  0x7f1d15c47b6b 0x7f1d15c67379 0x7f1cc1d0e25e 0x7f1cc1d0f9d2 0x7f1cff5d6853 0x7f1cfedda9cf 0x7f1cff58848a 0x7f1cfee79c31 0x7f1cfee7a425 0x7f1cff362735 0x7f1cff2d7031 0x7f1cff15d955 0x7f1cfee7be67 0x7f1cff41f048 0x7f1cff41f0c8 0x7f1cff2d7031 0x7f1cff15d3b5 0x7f1d00985a17 0x7f1d00986018 0x7f1cff2d7031 0x7f1cff15d3b5 0x7f1d106a7e88 0x55e6eb097050 0x55e6eb096de0 0x55e6eb10b244 0x55e6eafd7d14 0x55e6eb1081e6 0x55e6eb105e0d 0x55e6eb09877a 0x55e6eb10ae50 0x55e6eafd7d14\n",
      "tcmalloc: large alloc 5037686784 bytes == 0x55ea0f5c6000 @  0x7f1d15c47b6b 0x7f1d15c67379 0x7f1cc1d0e25e 0x7f1cc1d0f9d2 0x7f1cfe9f28e6 0x7f1cfee54dd9 0x7f1cff35f77a 0x7f1cff32aef9 0x7f1cff2e1657 0x7f1cff185929 0x7f1cfe9d97e5 0x7f1cfe9dbec2 0x7f1cfe9de22b 0x7f1cfe9de5f6 0x7f1cfe9de6b8 0x7f1cfeb68444 0x7f1cff3607ff 0x7f1cff10f846 0x7f1cff11496f 0x7f1d00a6ce78 0x7f1d00a6d1ff 0x7f1cff561a86 0x7f1cff565b6f 0x7f1d104cd5d0 0x7f1d104cdd36 0x55e6eb1ac874 0x55e6eb097292 0x55e6eb0dc410 0x55e6eb1baccf 0x55e6eb1800f7 0x55e6eb107ba6\n",
      "tcmalloc: large alloc 5037686784 bytes == 0x55eb3c216000 @  0x7f1d15c47b6b 0x7f1d15c67379 0x7f1cc1d0e25e 0x7f1cc1d0f9d2 0x7f1cfe9f28e6 0x7f1cfee54dd9 0x7f1cff375813 0x7f1cfe9dbec2 0x7f1cfe9de22b 0x7f1cfe9de5f6 0x7f1cfeb62656 0x7f1cff37c5a3 0x7f1cff37c663 0x7f1cff2ce1cb 0x7f1cff132b63 0x7f1d0098398e 0x7f1d00983b63 0x7f1cff2ce1cb 0x7f1cff56c153 0x7f1d10541560 0x7f1d10541fc6 0x55e6eb1ac874 0x55e6eb097292 0x55e6eb0dc410 0x55e6eb0ddccf 0x55e6eb17f7e6 0x55e6eb107454 0x55e6eb09869a 0x55e6eb106a45 0x55e6eafd7d14 0x55e6eb1081e6\n",
      "tcmalloc: large alloc 5037686784 bytes == 0x55ea0f5c6000 @  0x7f1d15c47b6b 0x7f1d15c67379 0x7f1cc1d0e25e 0x7f1cc1d0f9d2 0x7f1cff5d6853 0x7f1cfedda9cf 0x7f1cff58848a 0x7f1cfedd9dbd 0x7f1cfe9d960a 0x7f1cfe9d9165 0x7f1cfe9de023 0x7f1cfe9df3ed 0x7f1cfeea8ce3 0x7f1cff2d8bc9 0x7f1cff16208f 0x7f1cfeea4cc5 0x7f1cff35fc97 0x7f1cff2d8426 0x7f1cff16124f 0x7f1d008d0eec 0x7f1d008d12b4 0x7f1cff2d8426 0x7f1cff5800ef 0x7f1d1069fdee 0x55e6eb097050 0x55e6eb096de0 0x55e6eb10b244 0x55e6eb09869a 0x55e6eb106a45 0x55e6eafd7d14 0x55e6eb1081e6\n",
      "tcmalloc: large alloc 5037686784 bytes == 0x55eb3c216000 @  0x7f1d15c651e7 0x7f1cc140546e 0x7f1cc1455c7b 0x7f1cc1455d18 0x7f1cc1511d79 0x7f1cc1514e4c 0x7f1cc1633e7f 0x7f1cc1639fb5 0x7f1cc163be3d 0x7f1cc163d516 0x55e6eb0982c0 0x55e6eb097e99 0x7f1cc151be6b 0x55e6eb1800f7 0x55e6eb107ba6 0x55e6eb09869a 0x55e6eb106a45 0x55e6eafd7d14 0x55e6eb1081e6 0x55e6eb105e0d 0x55e6eb09877a 0x55e6eb10ae50 0x55e6eafd7d14 0x55e6eb1081e6 0x55e6eb105e0d 0x55e6eb09877a 0x55e6eb10ae50 0x55e6eb09869a 0x55e6eb106a45 0x55e6eb105b0e 0x55e6eb105813\n",
      "writing video to expr/results/video_ref.mp4:   0% 0/351 [00:00<?, ?it/s]ffmpeg version 3.4.8-0ubuntu0.2 Copyright (c) 2000-2020 the FFmpeg developers\n",
      "  built with gcc 7 (Ubuntu 7.5.0-3ubuntu1~18.04)\n",
      "  configuration: --prefix=/usr --extra-version=0ubuntu0.2 --toolchain=hardened --libdir=/usr/lib/x86_64-linux-gnu --incdir=/usr/include/x86_64-linux-gnu --enable-gpl --disable-stripping --enable-avresample --enable-avisynth --enable-gnutls --enable-ladspa --enable-libass --enable-libbluray --enable-libbs2b --enable-libcaca --enable-libcdio --enable-libflite --enable-libfontconfig --enable-libfreetype --enable-libfribidi --enable-libgme --enable-libgsm --enable-libmp3lame --enable-libmysofa --enable-libopenjpeg --enable-libopenmpt --enable-libopus --enable-libpulse --enable-librubberband --enable-librsvg --enable-libshine --enable-libsnappy --enable-libsoxr --enable-libspeex --enable-libssh --enable-libtheora --enable-libtwolame --enable-libvorbis --enable-libvpx --enable-libwavpack --enable-libwebp --enable-libx265 --enable-libxml2 --enable-libxvid --enable-libzmq --enable-libzvbi --enable-omx --enable-openal --enable-opengl --enable-sdl2 --enable-libdc1394 --enable-libdrm --enable-libiec61883 --enable-chromaprint --enable-frei0r --enable-libopencv --enable-libx264 --enable-shared\n",
      "  libavutil      55. 78.100 / 55. 78.100\n",
      "  libavcodec     57.107.100 / 57.107.100\n",
      "  libavformat    57. 83.100 / 57. 83.100\n",
      "  libavdevice    57. 10.100 / 57. 10.100\n",
      "  libavfilter     6.107.100 /  6.107.100\n",
      "  libavresample   3.  7.  0 /  3.  7.  0\n",
      "  libswscale      4.  8.100 /  4.  8.100\n",
      "  libswresample   2.  9.100 /  2.  9.100\n",
      "  libpostproc    54.  7.100 / 54.  7.100\n",
      "writing video to expr/results/video_ref.mp4:   0% 1/351 [00:00<05:17,  1.10it/s]Input #0, rawvideo, from 'pipe:':\n",
      "  Duration: N/A, start: 0.000000, bitrate: 717619 kb/s\n",
      "    Stream #0:0: Video: rawvideo (RGB[24] / 0x18424752), rgb24, 2336x512, 717619 kb/s, 25 tbr, 25 tbn, 25 tbc\n",
      "Stream mapping:\n",
      "  Stream #0:0 (rawvideo) -> setpts\n",
      "  setpts -> Stream #0:0 (libx264)\n",
      "\u001b[1;36m[libx264 @ 0x55849c7f1900] \u001b[0musing cpu capabilities: MMX2 SSE2Fast SSSE3 SSE4.2 AVX FMA3 BMI2 AVX2\n",
      "\u001b[1;36m[libx264 @ 0x55849c7f1900] \u001b[0mprofile High, level 3.2\n",
      "\u001b[1;36m[libx264 @ 0x55849c7f1900] \u001b[0m264 - core 152 r2854 e9a5903 - H.264/MPEG-4 AVC codec - Copyleft 2003-2017 - http://www.videolan.org/x264.html - options: cabac=1 ref=3 deblock=1:0:0 analyse=0x3:0x113 me=hex subme=7 psy=1 psy_rd=1.00:0.00 mixed_ref=1 me_range=16 chroma_me=1 trellis=1 8x8dct=1 cqm=0 deadzone=21,11 fast_pskip=1 chroma_qp_offset=-2 threads=6 lookahead_threads=1 sliced_threads=0 nr=0 decimate=1 interlaced=0 bluray_compat=0 constrained_intra=0 bframes=3 b_pyramid=2 b_adapt=1 b_bias=0 direct=1 weightb=1 open_gop=0 weightp=2 keyint=250 keyint_min=25 scenecut=40 intra_refresh=0 rc_lookahead=40 rc=crf mbtree=1 crf=23.0 qcomp=0.60 qpmin=0 qpmax=69 qpstep=4 ip_ratio=1.40 aq=1:1.00\n",
      "Output #0, mp4, to 'expr/results/video_ref.mp4':\n",
      "  Metadata:\n",
      "    encoder         : Lavf57.83.100\n",
      "    Stream #0:0: Video: h264 (libx264) (avc1 / 0x31637661), yuv420p, 2336x512, q=-1--1, 30 fps, 15360 tbn, 30 tbc\n",
      "    Metadata:\n",
      "      encoder         : Lavc57.107.100 libx264\n",
      "    Side data:\n",
      "      cpb: bitrate max/min/avg: 0/0/0 buffer size: 0 vbv_delay: -1\n",
      "writing video to expr/results/video_ref.mp4: 100% 351/351 [00:17<00:00, 20.58it/s]\n",
      "frame=  842 fps= 51 q=-1.0 Lsize=    4738kB time=00:00:27.96 bitrate=1387.9kbits/s dup=491 drop=0 speed=1.69x    \n",
      "video:4728kB audio:0kB subtitle:0kB other streams:0kB global headers:0kB muxing overhead: 0.216628%\n",
      "\u001b[1;36m[libx264 @ 0x55849c7f1900] \u001b[0mframe I:4     Avg QP:17.91  size:162831\n",
      "\u001b[1;36m[libx264 @ 0x55849c7f1900] \u001b[0mframe P:272   Avg QP:19.80  size: 14492\n",
      "\u001b[1;36m[libx264 @ 0x55849c7f1900] \u001b[0mframe B:566   Avg QP:21.66  size:   438\n",
      "\u001b[1;36m[libx264 @ 0x55849c7f1900] \u001b[0mconsecutive B-frames:  0.5% 21.9% 23.5% 54.2%\n",
      "\u001b[1;36m[libx264 @ 0x55849c7f1900] \u001b[0mmb I  I16..4:  7.6% 71.0% 21.3%\n",
      "\u001b[1;36m[libx264 @ 0x55849c7f1900] \u001b[0mmb P  I16..4:  1.2%  2.3%  0.8%  P16..4: 15.3%  5.7%  4.2%  0.0%  0.0%    skip:70.6%\n",
      "\u001b[1;36m[libx264 @ 0x55849c7f1900] \u001b[0mmb B  I16..4:  0.0%  0.0%  0.0%  B16..8:  4.2%  0.1%  0.0%  direct: 0.2%  skip:95.4%  L0:27.4% L1:67.8% BI: 4.8%\n",
      "\u001b[1;36m[libx264 @ 0x55849c7f1900] \u001b[0m8x8 transform intra:58.2% inter:61.4%\n",
      "\u001b[1;36m[libx264 @ 0x55849c7f1900] \u001b[0mcoded y,uvDC,uvAC intra: 62.0% 66.1% 40.7% inter: 4.6% 4.8% 0.3%\n",
      "\u001b[1;36m[libx264 @ 0x55849c7f1900] \u001b[0mi16 v,h,dc,p: 62% 15%  7% 16%\n",
      "\u001b[1;36m[libx264 @ 0x55849c7f1900] \u001b[0mi8 v,h,dc,ddl,ddr,vr,hd,vl,hu: 21% 11% 17%  8%  7% 10%  6% 12%  8%\n",
      "\u001b[1;36m[libx264 @ 0x55849c7f1900] \u001b[0mi4 v,h,dc,ddl,ddr,vr,hd,vl,hu: 21% 11% 11%  8% 12% 14%  8% 10%  6%\n",
      "\u001b[1;36m[libx264 @ 0x55849c7f1900] \u001b[0mi8c dc,h,v,p: 47% 17% 27%  9%\n",
      "\u001b[1;36m[libx264 @ 0x55849c7f1900] \u001b[0mWeighted P-Frames: Y:0.0% UV:0.0%\n",
      "\u001b[1;36m[libx264 @ 0x55849c7f1900] \u001b[0mref P L0: 64.7% 28.4%  5.5%  1.4%\n",
      "\u001b[1;36m[libx264 @ 0x55849c7f1900] \u001b[0mref B L0: 95.9%  3.7%  0.4%\n",
      "\u001b[1;36m[libx264 @ 0x55849c7f1900] \u001b[0mref B L1: 98.8%  1.2%\n",
      "\u001b[1;36m[libx264 @ 0x55849c7f1900] \u001b[0mkb/s:1379.80\n"
     ]
    }
   ],
   "source": [
    "!rm -rf expr/results/*\n",
    "!python main.py --mode sample --num_domains 2 --resume_iter 100000 --w_hpf 1 \\\n",
    "               --checkpoint_dir expr/checkpoints/celeba_hq \\\n",
    "               --result_dir expr/results \\\n",
    "               --src_dir assets/representative/celeba_hq/src \\\n",
    "               --ref_dir assets/representative/celeba_hq/ref"
   ]
  },
  {
   "cell_type": "code",
   "execution_count": null,
   "metadata": {
    "colab": {
     "base_uri": "https://localhost:8080/"
    },
    "id": "p0IkLpaTCrhP",
    "outputId": "8f628d03-7b34-4ba1-8720-2e0c683c4e4d"
   },
   "outputs": [
    {
     "name": "stdout",
     "output_type": "stream",
     "text": [
      "Namespace(batch_size=8, beta1=0.0, beta2=0.99, checkpoint_dir='expr/checkpoints/celeba_hq', ds_iter=100000, eval_dir='expr/eval/celeba_hq', eval_every=50000, f_lr=1e-06, hidden_dim=512, img_size=256, inp_dir='assets/representative/custom/female', lambda_cyc=1, lambda_ds=1, lambda_reg=1, lambda_sty=1, latent_dim=16, lm_path='expr/checkpoints/celeba_lm_mean.npz', lr=0.0001, mode='eval', num_domains=2, num_outs_per_domain=10, num_workers=4, out_dir='assets/representative/celeba_hq/src/female', print_every=10, randcrop_prob=0.5, ref_dir='assets/representative/celeba_hq/ref', result_dir='expr/results', resume_iter=100000, sample_dir='expr/samples', sample_every=5000, save_every=10000, seed=777, src_dir='assets/representative/celeba_hq/src', style_dim=64, total_iters=100000, train_img_dir='data/celeba_hq/train', val_batch_size=32, val_img_dir='data/celeba_hq/val', w_hpf=1.0, weight_decay=0.0001, wing_path='expr/checkpoints/wing.ckpt')\n",
      "Number of parameters of generator: 43467395\n",
      "Number of parameters of mapping_network: 2438272\n",
      "Number of parameters of style_encoder: 20916928\n",
      "Number of parameters of discriminator: 20852290\n",
      "Number of parameters of fan: 6333603\n",
      "Initializing generator...\n",
      "Initializing mapping_network...\n",
      "Initializing style_encoder...\n",
      "Initializing discriminator...\n",
      "Loading checkpoint from expr/checkpoints/celeba_hq/100000_nets_ema.ckpt...\n",
      "Calculating evaluation metrics...\n",
      "Number of domains: 2\n",
      "Preparing DataLoader for the evaluation phase...\n",
      "Generating images and calculating LPIPS for male2female...\n",
      "  0% 0/32 [00:00<?, ?it/s]/usr/local/lib/python3.7/dist-packages/torch/nn/functional.py:3458: UserWarning: Default upsampling behavior when mode=bilinear is changed to align_corners=False since 0.4.0. Please specify align_corners=True if the old behavior is desired. See the documentation of nn.Upsample for details.\n",
      "  \"See the documentation of nn.Upsample for details.\".format(mode)\n",
      "100% 32/32 [07:04<00:00, 13.26s/it]\n",
      "Preparing DataLoader for the evaluation phase...\n",
      "Generating images and calculating LPIPS for female2male...\n",
      "100% 32/32 [06:56<00:00, 13.01s/it]\n",
      "Calculating FID for all tasks...\n",
      "Calculating FID for male2female...\n",
      "Calculating FID given paths data/celeba_hq/train/female and expr/eval/celeba_hq/male2female...\n",
      "Preparing DataLoader for the evaluation phase...\n",
      "Preparing DataLoader for the evaluation phase...\n",
      "100% 561/561 [02:47<00:00,  3.34it/s]\n",
      "100% 313/313 [00:29<00:00, 10.56it/s]\n",
      "Calculating FID for female2male...\n",
      "Calculating FID given paths data/celeba_hq/train/male and expr/eval/celeba_hq/female2male...\n",
      "Preparing DataLoader for the evaluation phase...\n",
      "Preparing DataLoader for the evaluation phase...\n",
      "100% 315/315 [01:32<00:00,  3.41it/s]\n",
      "100% 313/313 [00:27<00:00, 11.42it/s]\n",
      "Calculating evaluation metrics...\n",
      "Number of domains: 2\n",
      "Preparing DataLoader for the evaluation phase...\n",
      "Preparing DataLoader for the evaluation phase...\n",
      "Generating images and calculating LPIPS for male2female...\n",
      "100% 32/32 [08:10<00:00, 15.34s/it]\n",
      "Preparing DataLoader for the evaluation phase...\n",
      "Preparing DataLoader for the evaluation phase...\n",
      "Generating images and calculating LPIPS for female2male...\n",
      "100% 32/32 [07:56<00:00, 14.88s/it]\n",
      "Calculating FID for all tasks...\n",
      "Calculating FID for male2female...\n",
      "Calculating FID given paths data/celeba_hq/train/female and expr/eval/celeba_hq/male2female...\n",
      "Preparing DataLoader for the evaluation phase...\n",
      "Preparing DataLoader for the evaluation phase...\n",
      "100% 561/561 [02:44<00:00,  3.41it/s]\n",
      "100% 313/313 [00:26<00:00, 11.66it/s]\n",
      "Calculating FID for female2male...\n",
      "Calculating FID given paths data/celeba_hq/train/male and expr/eval/celeba_hq/female2male...\n",
      "Preparing DataLoader for the evaluation phase...\n",
      "Preparing DataLoader for the evaluation phase...\n",
      "100% 315/315 [01:29<00:00,  3.51it/s]\n",
      "100% 313/313 [00:27<00:00, 11.53it/s]\n"
     ]
    }
   ],
   "source": [
    "# celeba-hq\n",
    "!python main.py --mode eval --num_domains 2 --w_hpf 1 \\\n",
    "               --resume_iter 100000 \\\n",
    "               --train_img_dir data/celeba_hq/train \\\n",
    "               --val_img_dir data/celeba_hq/val \\\n",
    "               --checkpoint_dir expr/checkpoints/celeba_hq \\\n",
    "               --eval_dir expr/eval/celeba_hq"
   ]
  },
  {
   "cell_type": "code",
   "execution_count": null,
   "metadata": {
    "id": "WSDMdYsAECO-"
   },
   "outputs": [],
   "source": []
  },
  {
   "cell_type": "code",
   "execution_count": null,
   "metadata": {
    "id": "fNm8tkA5ECRJ"
   },
   "outputs": [],
   "source": []
  },
  {
   "cell_type": "code",
   "execution_count": null,
   "metadata": {
    "id": "hdY1aAJeECTV"
   },
   "outputs": [],
   "source": []
  }
 ],
 "metadata": {
  "accelerator": "GPU",
  "colab": {
   "collapsed_sections": [],
   "machine_shape": "hm",
   "name": "“StarGanv2.ipynb”的副本",
   "provenance": []
  },
  "kernelspec": {
   "display_name": "Python 3",
   "language": "python",
   "name": "python3"
  },
  "language_info": {
   "codemirror_mode": {
    "name": "ipython",
    "version": 3
   },
   "file_extension": ".py",
   "mimetype": "text/x-python",
   "name": "python",
   "nbconvert_exporter": "python",
   "pygments_lexer": "ipython3",
   "version": "3.7.5"
  }
 },
 "nbformat": 4,
 "nbformat_minor": 4
}
